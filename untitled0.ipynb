{
  "nbformat": 4,
  "nbformat_minor": 0,
  "metadata": {
    "colab": {
      "provenance": [],
      "authorship_tag": "ABX9TyMcJrJ0EFAZCiHMOH1pJsrn",
      "include_colab_link": true
    },
    "kernelspec": {
      "name": "python3",
      "display_name": "Python 3"
    },
    "language_info": {
      "name": "python"
    }
  },
  "cells": [
    {
      "cell_type": "markdown",
      "metadata": {
        "id": "view-in-github",
        "colab_type": "text"
      },
      "source": [
        "<a href=\"https://colab.research.google.com/github/PRITJAIN/DDS/blob/main/untitled0.ipynb\" target=\"_parent\"><img src=\"https://colab.research.google.com/assets/colab-badge.svg\" alt=\"Open In Colab\"/></a>"
      ]
    },
    {
      "cell_type": "code",
      "source": [
        "%%writefile factorial.cpp\n",
        "\n",
        "#include <iostream>\n",
        "using namespace std;\n",
        "\n",
        "int factorial(int n) {\n",
        "    if (n == 1)\n",
        "        return 1; // base case\n",
        "    else\n",
        "        return n * factorial(n - 1); // recursive call\n",
        "}\n",
        "\n",
        "int main() {\n",
        "    int num = 5;\n",
        "    cout << \"Factorial of \" << num << \" is \" << factorial(num) << endl;\n",
        "    return 0;\n",
        "}"
      ],
      "metadata": {
        "colab": {
          "base_uri": "https://localhost:8080/"
        },
        "id": "yxxad8ry-Ikq",
        "outputId": "912eac07-39d8-4ce3-ac6a-04373f3be913"
      },
      "execution_count": null,
      "outputs": [
        {
          "output_type": "stream",
          "name": "stdout",
          "text": [
            "Overwriting factorial.cpp\n"
          ]
        }
      ]
    },
    {
      "cell_type": "code",
      "source": [
        "!g++ factorial.cpp -o factorial"
      ],
      "metadata": {
        "id": "fG9HqNeO-ZnR"
      },
      "execution_count": null,
      "outputs": []
    },
    {
      "cell_type": "code",
      "source": [
        "!./factorial"
      ],
      "metadata": {
        "colab": {
          "base_uri": "https://localhost:8080/"
        },
        "id": "J2TMPGOM-dnR",
        "outputId": "53d71dab-5711-409a-9e2d-91ee6ffcb648"
      },
      "execution_count": null,
      "outputs": [
        {
          "output_type": "stream",
          "name": "stdout",
          "text": [
            "Factorial of 5 is 120\n"
          ]
        }
      ]
    },
    {
      "cell_type": "code",
      "source": [
        "def fibonacci(n):\n",
        "    fib_sequence = []\n",
        "    a, b = 0, 1\n",
        "    for _ in range(n):\n",
        "        fib_sequence.append(a)\n",
        "        a, b = b, a + b\n",
        "    return fib_sequence\n",
        "terms = int(input(\"Enter the number of terms: \"))\n",
        "print(f\"Fibonacci sequence up to {terms} terms:\")\n",
        "print(fibonacci(terms))\n"
      ],
      "metadata": {
        "colab": {
          "base_uri": "https://localhost:8080/"
        },
        "id": "9cLKao7d-pGp",
        "outputId": "08e5f27d-bc63-494a-96b8-0acaed8260b0"
      },
      "execution_count": null,
      "outputs": [
        {
          "output_type": "stream",
          "name": "stdout",
          "text": [
            "Enter the number of terms: 12\n",
            "Fibonacci sequence up to 12 terms:\n",
            "[0, 1, 1, 2, 3, 5, 8, 13, 21, 34, 55, 89]\n"
          ]
        }
      ]
    },
    {
      "cell_type": "code",
      "source": [
        "%%writefile fibonacci.cpp\n",
        "#include <iostream>\n",
        "using namespace std;\n",
        "\n",
        "void fibonacci(int n) {\n",
        "    int a = 0, b = 1, next;\n",
        "\n",
        "    for (int i = 0; i < n; ++i) {\n",
        "        cout << a << \" \";\n",
        "        next = a + b;\n",
        "        a = b;\n",
        "        b = next;\n",
        "    }\n",
        "    cout << endl;\n",
        "}\n",
        "\n",
        "int main() {\n",
        "    int terms;\n",
        "    cout << \"Enter the number of terms: \";\n",
        "    cin >> terms;\n",
        "\n",
        "    cout << \"Fibonacci sequence up to \" << terms << \" terms:\" << endl;\n",
        "    fibonacci(terms);\n",
        "\n",
        "    return 0;\n",
        "}\n"
      ],
      "metadata": {
        "colab": {
          "base_uri": "https://localhost:8080/"
        },
        "id": "sad5SMF7BMXA",
        "outputId": "bc71152c-0211-4ae0-b140-bedf2a79b54b"
      },
      "execution_count": null,
      "outputs": [
        {
          "output_type": "stream",
          "name": "stdout",
          "text": [
            "Overwriting fibonacci.cpp\n"
          ]
        }
      ]
    },
    {
      "cell_type": "code",
      "source": [
        "!g++ fibonacci.cpp\n"
      ],
      "metadata": {
        "id": "jJ-ovyE8BRpY"
      },
      "execution_count": null,
      "outputs": []
    },
    {
      "cell_type": "code",
      "source": [
        "!./a.out"
      ],
      "metadata": {
        "colab": {
          "base_uri": "https://localhost:8080/"
        },
        "id": "tBZtAfL3BWv5",
        "outputId": "bd9e04d6-a72c-458b-ac7e-ad7e522f2bed"
      },
      "execution_count": null,
      "outputs": [
        {
          "output_type": "stream",
          "name": "stdout",
          "text": [
            "Enter the number of terms: 5\n",
            "Fibonacci sequence up to 5 terms:\n",
            "0 1 1 2 3 \n"
          ]
        }
      ]
    },
    {
      "cell_type": "code",
      "source": [
        "def find_gcd (a, b):\n",
        "     while b != 0:\n",
        "         a, b = b, a % b\n",
        "     return a\n",
        "a= 48\n",
        "b= 18\n",
        "\n",
        "print(\"GCD IS:\", find_gcd(a,b))\n",
        "\n"
      ],
      "metadata": {
        "colab": {
          "base_uri": "https://localhost:8080/"
        },
        "id": "BcbbTIjFBmwh",
        "outputId": "81a5240d-2103-48ed-f260-da3e95d0175f"
      },
      "execution_count": null,
      "outputs": [
        {
          "output_type": "stream",
          "name": "stdout",
          "text": [
            "GCD IS: 6\n"
          ]
        }
      ]
    },
    {
      "cell_type": "code",
      "source": [
        "def gcd(a, b):\n",
        "    if b == 0:\n",
        "        return a\n",
        "    else:\n",
        "        return gcd(b, a % b)\n",
        "\n",
        "# Example usage\n",
        "a = 48\n",
        "b = 18\n",
        "print(\"GCD is:\", gcd(a, b))\n"
      ],
      "metadata": {
        "colab": {
          "base_uri": "https://localhost:8080/"
        },
        "id": "pf7XcSyeDYMI",
        "outputId": "8e78494b-28ed-44f5-854e-ee535fb3272d"
      },
      "execution_count": null,
      "outputs": [
        {
          "output_type": "stream",
          "name": "stdout",
          "text": [
            "GCD is: 6\n"
          ]
        }
      ]
    },
    {
      "cell_type": "code",
      "source": [
        "%%writefile Rgcd.cpp\n",
        "#include <iostream>\n",
        "using namespace std;\n",
        "\n",
        "int gcd(int a, int b) {\n",
        "    if (b == 0)\n",
        "        return a;\n",
        "    return gcd(b, a % b);\n",
        "}\n",
        "\n",
        "int main() {\n",
        "    int a = 66, b = 18;\n",
        "    cout << \"GCD of \" << a << \" and \" << b << \" is: \" << gcd(a, b) << endl;\n",
        "    return 0;\n",
        "}\n"
      ],
      "metadata": {
        "colab": {
          "base_uri": "https://localhost:8080/"
        },
        "id": "kkx27RxQDbj4",
        "outputId": "dd55440a-1ff8-419b-b1f7-83497c3daba9"
      },
      "execution_count": null,
      "outputs": [
        {
          "output_type": "stream",
          "name": "stdout",
          "text": [
            "Overwriting Rgcd.cpp\n"
          ]
        }
      ]
    },
    {
      "cell_type": "code",
      "source": [
        "!g++ Rgcd.cpp\n"
      ],
      "metadata": {
        "id": "wODvIUlZDhhI"
      },
      "execution_count": null,
      "outputs": []
    },
    {
      "cell_type": "code",
      "source": [
        "!./a.out"
      ],
      "metadata": {
        "colab": {
          "base_uri": "https://localhost:8080/"
        },
        "id": "ChMJab_aDh1X",
        "outputId": "4a77469e-b754-4be7-c750-750de455e7a2"
      },
      "execution_count": null,
      "outputs": [
        {
          "output_type": "stream",
          "name": "stdout",
          "text": [
            "GCD of 66 and 18 is: 6\n"
          ]
        }
      ]
    },
    {
      "cell_type": "code",
      "source": [
        "%%writefile gcd.c\n",
        "#include <stdio.h>\n",
        "\n",
        "// Recursive function to find GCD\n",
        "int gcd(int a, int b) {\n",
        "    if (b == 0)\n",
        "        return a;\n",
        "    return gcd(b, a % b);\n",
        "}\n",
        "\n",
        "int main() {\n",
        "    int a, b;\n",
        "    printf(\"Enter two integers: \");\n",
        "    scanf(\"%d %d\", &a, &b);\n",
        "    printf(\"GCD of %d and %d is: %d\\n\", a, b, gcd(a, b));\n",
        "    return 0;\n",
        "}\n"
      ],
      "metadata": {
        "id": "h_15fVmPEUlg"
      },
      "execution_count": null,
      "outputs": []
    },
    {
      "cell_type": "code",
      "source": [
        "!gcc gcd.c"
      ],
      "metadata": {
        "id": "eu7VvR_bEdqX"
      },
      "execution_count": null,
      "outputs": []
    },
    {
      "cell_type": "code",
      "source": [
        "!./a.out"
      ],
      "metadata": {
        "colab": {
          "base_uri": "https://localhost:8080/"
        },
        "id": "4xSJBe_SEgyn",
        "outputId": "95ff61b9-723b-4bab-99c0-862d78b03f6d"
      },
      "execution_count": null,
      "outputs": [
        {
          "output_type": "stream",
          "name": "stdout",
          "text": [
            "Enter two integers: 5\n",
            "14\n",
            "GCD of 5 and 14 is: 1\n"
          ]
        }
      ]
    }
  ]
}